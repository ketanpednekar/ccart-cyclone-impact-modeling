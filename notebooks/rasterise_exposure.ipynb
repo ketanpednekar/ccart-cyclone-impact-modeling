{
 "cells": [
  {
   "cell_type": "code",
   "execution_count": 3,
   "id": "e74bf041",
   "metadata": {},
   "outputs": [
    {
     "name": "stdout",
     "output_type": "stream",
     "text": [
      "✅ Rasterization complete. GeoTIFF saved to:\n",
      "C:\\CMIP data\\GitHub Clean\\ccart-cyclone-impact-modeling\\outputs\\exposure_raster.tif\n"
     ]
    }
   ],
   "source": [
    "# ─────────────────────────────────────────────────────────────\n",
    "# Imports\n",
    "# ─────────────────────────────────────────────────────────────\n",
    "import geopandas as gpd\n",
    "import rasterio\n",
    "from rasterio.features import rasterize\n",
    "from rasterio.transform import from_origin\n",
    "import numpy as np\n",
    "import os\n",
    "\n",
    "# ─────────────────────────────────────────────────────────────\n",
    "# Load Exposure Points\n",
    "# ─────────────────────────────────────────────────────────────\n",
    "exposure_path = r\"C:\\CMIP data\\GitHub Clean\\ccart-cyclone-impact-modeling\\outputs\\exposure_points.geojson\"\n",
    "gdf = gpd.read_file(exposure_path)\n",
    "\n",
    "# ─────────────────────────────────────────────────────────────\n",
    "# Define Raster Parameters\n",
    "# ─────────────────────────────────────────────────────────────\n",
    "res = 0.01  # degrees per pixel (adjust for resolution)\n",
    "xmin, ymin, xmax, ymax = gdf.total_bounds\n",
    "width = int((xmax - xmin) / res)\n",
    "height = int((ymax - ymin) / res)\n",
    "transform = from_origin(xmin, ymax, res, res)\n",
    "\n",
    "# ─────────────────────────────────────────────────────────────\n",
    "# Prepare Shapes for Rasterization\n",
    "# ─────────────────────────────────────────────────────────────\n",
    "shapes = [\n",
    "    (geom, np.log10(max(val, 1)))  # log₁₀(asset value)\n",
    "    for geom, val in zip(gdf.geometry, gdf[\"value\"])\n",
    "]\n",
    "\n",
    "# ─────────────────────────────────────────────────────────────\n",
    "# Rasterize\n",
    "# ─────────────────────────────────────────────────────────────\n",
    "raster = rasterize(\n",
    "    shapes,\n",
    "    out_shape=(height, width),\n",
    "    transform=transform,\n",
    "    fill=np.nan,\n",
    "    dtype=\"float32\"\n",
    ")\n",
    "\n",
    "raster = np.log10(np.maximum(raster, 1))\n",
    "\n",
    "# ─────────────────────────────────────────────────────────────\n",
    "# Save as GeoTIFF\n",
    "# ─────────────────────────────────────────────────────────────\n",
    "output_path = r\"C:\\CMIP data\\GitHub Clean\\ccart-cyclone-impact-modeling\\outputs\\exposure_raster.tif\"\n",
    "with rasterio.open(\n",
    "    output_path, \"w\",\n",
    "    driver=\"GTiff\",\n",
    "    height=height,\n",
    "    width=width,\n",
    "    count=1,\n",
    "    dtype=raster.dtype,\n",
    "    crs=\"EPSG:4326\",\n",
    "    transform=transform,\n",
    "    nodata=np.nan\n",
    ") as dst:\n",
    "    dst.write(raster, 1)\n",
    "\n",
    "print(\"✅ Rasterization complete. GeoTIFF saved to:\")\n",
    "print(output_path)\n"
   ]
  }
 ],
 "metadata": {
  "kernelspec": {
   "display_name": "climada_env",
   "language": "python",
   "name": "python3"
  },
  "language_info": {
   "codemirror_mode": {
    "name": "ipython",
    "version": 3
   },
   "file_extension": ".py",
   "mimetype": "text/x-python",
   "name": "python",
   "nbconvert_exporter": "python",
   "pygments_lexer": "ipython3",
   "version": "3.10.18"
  }
 },
 "nbformat": 4,
 "nbformat_minor": 5
}
